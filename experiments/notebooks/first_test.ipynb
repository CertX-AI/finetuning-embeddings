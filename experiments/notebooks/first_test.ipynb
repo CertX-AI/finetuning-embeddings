{
 "cells": [
  {
   "cell_type": "code",
   "execution_count": 5,
   "id": "7221ece4",
   "metadata": {},
   "outputs": [
    {
     "name": "stdout",
     "output_type": "stream",
     "text": [
      "/app/finetuning_embeddings\n"
     ]
    }
   ],
   "source": [
    "# Change pwd to the workspace directory\n",
    "import os\n",
    "\n",
    "os.chdir(\"/app/finetuning_embeddings\")\n",
    "\n",
    "# Get the current working directory\n",
    "print(os.getcwd())"
   ]
  },
  {
   "cell_type": "code",
   "execution_count": 6,
   "id": "33a5992a",
   "metadata": {},
   "outputs": [],
   "source": [
    "from finetuning_embeddings.utils import check_gpu, validate_file_path"
   ]
  },
  {
   "cell_type": "code",
   "execution_count": 7,
   "id": "da515aaa",
   "metadata": {},
   "outputs": [
    {
     "name": "stdout",
     "output_type": "stream",
     "text": [
      "=== GPU AVAILABILITY CHECK ===\n",
      "You have a GPU available!\n",
      "Device Name: NVIDIA GeForce RTX 4090\n",
      "Memory Allocated: 0.00 GB\n",
      "Memory Cached: 0.00 GB\n",
      "Total Memory: 23.55 GB\n",
      "CUDA Capability: (8, 9)\n"
     ]
    }
   ],
   "source": [
    "print(\"=== GPU AVAILABILITY CHECK ===\")\n",
    "check_gpu()"
   ]
  },
  {
   "cell_type": "code",
   "execution_count": 8,
   "id": "d6ee0e4c",
   "metadata": {},
   "outputs": [
    {
     "name": "stdout",
     "output_type": "stream",
     "text": [
      "CSV file validated for input.\n",
      "Input existing .csv: True\n",
      "Input missing .json: False\n",
      "JSON file path is valid for output.\n",
      "Output existing dir .JSON: True\n",
      "Output missing dir .xls: False\n",
      "Invalid extension error: Unsupported file type. Must be .xls, .xlsx, .csv or .json\n"
     ]
    }
   ],
   "source": [
    "# Create dummy example files and test validate_file_path\n",
    "\n",
    "import tempfile\n",
    "\n",
    "# 1) Make a temp directory\n",
    "temp_dir = tempfile.mkdtemp()\n",
    "\n",
    "# 2) Dummy input file (CSV) – should validate True\n",
    "csv_file = os.path.join(temp_dir, \"test.csv\")\n",
    "with open(csv_file, \"w\") as f:\n",
    "    f.write(\"col1,col2\\n1,2\")\n",
    "print(\"Input existing .csv:\", validate_file_path(csv_file, is_output=False))\n",
    "\n",
    "# 3) Non‐existent input file (JSON) – should be False\n",
    "json_missing = os.path.join(temp_dir, \"missing.json\")\n",
    "print(\"Input missing .json:\", validate_file_path(json_missing, is_output=False))\n",
    "\n",
    "# 4) Output to existing dir (case‐insensitive .JSON) – should be True\n",
    "out_json = os.path.join(temp_dir, \"out.JSON\")\n",
    "print(\"Output existing dir .JSON:\", validate_file_path(out_json, is_output=True))\n",
    "\n",
    "# 5) Output to missing dir (.xls) – should be False\n",
    "out_xls = os.path.join(temp_dir, \"no_dir\", \"file.xls\")\n",
    "print(\"Output missing dir .xls:\", validate_file_path(out_xls, is_output=True))\n",
    "\n",
    "# 6) Invalid extension – should raise ValueError\n",
    "try:\n",
    "    bad = os.path.join(temp_dir, \"file.badext\")\n",
    "    validate_file_path(bad)\n",
    "except ValueError as err:\n",
    "    print(\"Invalid extension error:\", err)\n"
   ]
  }
 ],
 "metadata": {
  "kernelspec": {
   "display_name": "Python 3",
   "language": "python",
   "name": "python3"
  },
  "language_info": {
   "codemirror_mode": {
    "name": "ipython",
    "version": 3
   },
   "file_extension": ".py",
   "mimetype": "text/x-python",
   "name": "python",
   "nbconvert_exporter": "python",
   "pygments_lexer": "ipython3",
   "version": "3.12.5"
  }
 },
 "nbformat": 4,
 "nbformat_minor": 5
}
